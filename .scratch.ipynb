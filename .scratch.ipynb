{
 "cells": [
  {
   "cell_type": "code",
   "execution_count": 2,
   "metadata": {
    "metadata": {}
   },
   "outputs": [],
   "source": [
    "import pandas as pd\n",
    "from pybaseball import playerid_lookup\n",
    "from pybaseball import statcast_pitcher, statcast\n",
    "import seaborn as sns\n",
    "import matplotlib.pyplot as plt\n",
    "import numpy as np\n",
    "from utils import process_statcast_data"
   ]
  },
  {
   "cell_type": "code",
   "execution_count": 3,
   "metadata": {
    "metadata": {}
   },
   "outputs": [],
   "source": [
    "from pybaseball import cache\n",
    "\n",
    "cache.purge()"
   ]
  },
  {
   "cell_type": "code",
   "execution_count": 4,
   "metadata": {
    "metadata": {}
   },
   "outputs": [],
   "source": [
    "# sc_2024 = statcast(\"2024-01-01\", \"2024-12-31\")\n",
    "# combo_counts = sc_2024.groupby([\"pitch_name\", \"pitch_type\"]).size().reset_index(name=\"counts\")\n",
    "# print(combo_counts)"
   ]
  },
  {
   "cell_type": "code",
   "execution_count": 5,
   "metadata": {
    "metadata": {}
   },
   "outputs": [
    {
     "data": {
      "text/plain": [
       "543294"
      ]
     },
     "execution_count": 5,
     "metadata": {},
     "output_type": "execute_result"
    }
   ],
   "source": [
    "543294"
   ]
  },
  {
   "cell_type": "code",
   "execution_count": 6,
   "metadata": {
    "metadata": {}
   },
   "outputs": [
    {
     "name": "stdout",
     "output_type": "stream",
     "text": [
      "Gathering Player Data\n"
     ]
    }
   ],
   "source": [
    "df = statcast_pitcher(\"2024-04-15\", \"2024-04-17\", 543294)"
   ]
  },
  {
   "cell_type": "code",
   "execution_count": 7,
   "metadata": {
    "metadata": {}
   },
   "outputs": [
    {
     "data": {
      "text/html": [
       "<div>\n",
       "<style scoped>\n",
       "    .dataframe tbody tr th:only-of-type {\n",
       "        vertical-align: middle;\n",
       "    }\n",
       "\n",
       "    .dataframe tbody tr th {\n",
       "        vertical-align: top;\n",
       "    }\n",
       "\n",
       "    .dataframe thead th {\n",
       "        text-align: right;\n",
       "    }\n",
       "</style>\n",
       "<table border=\"1\" class=\"dataframe\">\n",
       "  <thead>\n",
       "    <tr style=\"text-align: right;\">\n",
       "      <th></th>\n",
       "      <th>pitch_type</th>\n",
       "      <th>release_speed</th>\n",
       "      <th>release_spin_rate</th>\n",
       "      <th>pfx_x</th>\n",
       "      <th>pfx_z</th>\n",
       "      <th>stand</th>\n",
       "      <th>game_date</th>\n",
       "    </tr>\n",
       "  </thead>\n",
       "  <tbody>\n",
       "    <tr>\n",
       "      <th>0</th>\n",
       "      <td>CH</td>\n",
       "      <td>80.9</td>\n",
       "      <td>2216.0</td>\n",
       "      <td>-0.22</td>\n",
       "      <td>0.72</td>\n",
       "      <td>R</td>\n",
       "      <td>2024-04-16</td>\n",
       "    </tr>\n",
       "    <tr>\n",
       "      <th>1</th>\n",
       "      <td>CU</td>\n",
       "      <td>75.8</td>\n",
       "      <td>3046.0</td>\n",
       "      <td>1.30</td>\n",
       "      <td>-0.77</td>\n",
       "      <td>R</td>\n",
       "      <td>2024-04-16</td>\n",
       "    </tr>\n",
       "    <tr>\n",
       "      <th>2</th>\n",
       "      <td>FF</td>\n",
       "      <td>89.2</td>\n",
       "      <td>2194.0</td>\n",
       "      <td>-0.70</td>\n",
       "      <td>1.18</td>\n",
       "      <td>R</td>\n",
       "      <td>2024-04-16</td>\n",
       "    </tr>\n",
       "    <tr>\n",
       "      <th>3</th>\n",
       "      <td>CU</td>\n",
       "      <td>76.0</td>\n",
       "      <td>3078.0</td>\n",
       "      <td>1.35</td>\n",
       "      <td>-0.90</td>\n",
       "      <td>R</td>\n",
       "      <td>2024-04-16</td>\n",
       "    </tr>\n",
       "    <tr>\n",
       "      <th>4</th>\n",
       "      <td>SI</td>\n",
       "      <td>88.2</td>\n",
       "      <td>2076.0</td>\n",
       "      <td>-1.20</td>\n",
       "      <td>0.57</td>\n",
       "      <td>R</td>\n",
       "      <td>2024-04-16</td>\n",
       "    </tr>\n",
       "    <tr>\n",
       "      <th>...</th>\n",
       "      <td>...</td>\n",
       "      <td>...</td>\n",
       "      <td>...</td>\n",
       "      <td>...</td>\n",
       "      <td>...</td>\n",
       "      <td>...</td>\n",
       "      <td>...</td>\n",
       "    </tr>\n",
       "    <tr>\n",
       "      <th>73</th>\n",
       "      <td>SI</td>\n",
       "      <td>87.6</td>\n",
       "      <td>2000.0</td>\n",
       "      <td>-1.08</td>\n",
       "      <td>0.50</td>\n",
       "      <td>L</td>\n",
       "      <td>2024-04-16</td>\n",
       "    </tr>\n",
       "    <tr>\n",
       "      <th>74</th>\n",
       "      <td>FF</td>\n",
       "      <td>87.8</td>\n",
       "      <td>1994.0</td>\n",
       "      <td>-0.28</td>\n",
       "      <td>1.14</td>\n",
       "      <td>L</td>\n",
       "      <td>2024-04-16</td>\n",
       "    </tr>\n",
       "    <tr>\n",
       "      <th>75</th>\n",
       "      <td>CH</td>\n",
       "      <td>82.8</td>\n",
       "      <td>2170.0</td>\n",
       "      <td>-1.10</td>\n",
       "      <td>0.48</td>\n",
       "      <td>L</td>\n",
       "      <td>2024-04-16</td>\n",
       "    </tr>\n",
       "    <tr>\n",
       "      <th>76</th>\n",
       "      <td>CH</td>\n",
       "      <td>81.7</td>\n",
       "      <td>2175.0</td>\n",
       "      <td>-1.33</td>\n",
       "      <td>0.64</td>\n",
       "      <td>L</td>\n",
       "      <td>2024-04-16</td>\n",
       "    </tr>\n",
       "    <tr>\n",
       "      <th>77</th>\n",
       "      <td>FF</td>\n",
       "      <td>87.8</td>\n",
       "      <td>2005.0</td>\n",
       "      <td>-0.44</td>\n",
       "      <td>1.21</td>\n",
       "      <td>L</td>\n",
       "      <td>2024-04-16</td>\n",
       "    </tr>\n",
       "  </tbody>\n",
       "</table>\n",
       "<p>77 rows × 7 columns</p>\n",
       "</div>"
      ],
      "text/plain": [
       "   pitch_type  release_speed  release_spin_rate  pfx_x  pfx_z stand  \\\n",
       "0          CH           80.9             2216.0  -0.22   0.72     R   \n",
       "1          CU           75.8             3046.0   1.30  -0.77     R   \n",
       "2          FF           89.2             2194.0  -0.70   1.18     R   \n",
       "3          CU           76.0             3078.0   1.35  -0.90     R   \n",
       "4          SI           88.2             2076.0  -1.20   0.57     R   \n",
       "..        ...            ...                ...    ...    ...   ...   \n",
       "73         SI           87.6             2000.0  -1.08   0.50     L   \n",
       "74         FF           87.8             1994.0  -0.28   1.14     L   \n",
       "75         CH           82.8             2170.0  -1.10   0.48     L   \n",
       "76         CH           81.7             2175.0  -1.33   0.64     L   \n",
       "77         FF           87.8             2005.0  -0.44   1.21     L   \n",
       "\n",
       "     game_date  \n",
       "0   2024-04-16  \n",
       "1   2024-04-16  \n",
       "2   2024-04-16  \n",
       "3   2024-04-16  \n",
       "4   2024-04-16  \n",
       "..         ...  \n",
       "73  2024-04-16  \n",
       "74  2024-04-16  \n",
       "75  2024-04-16  \n",
       "76  2024-04-16  \n",
       "77  2024-04-16  \n",
       "\n",
       "[77 rows x 7 columns]"
      ]
     },
     "execution_count": 7,
     "metadata": {},
     "output_type": "execute_result"
    }
   ],
   "source": [
    "df = process_statcast_data(df)\n",
    "df"
   ]
  },
  {
   "cell_type": "code",
   "execution_count": 8,
   "metadata": {
    "metadata": {}
   },
   "outputs": [
    {
     "data": {
      "text/plain": [
       "0     CH\n",
       "1     CU\n",
       "2     FF\n",
       "3     CU\n",
       "4     SI\n",
       "      ..\n",
       "73    SI\n",
       "74    FF\n",
       "75    CH\n",
       "76    CH\n",
       "77    FF\n",
       "Name: pitch_type, Length: 77, dtype: category\n",
       "Categories (4, object): ['CH', 'CU', 'FF', 'SI']"
      ]
     },
     "execution_count": 8,
     "metadata": {},
     "output_type": "execute_result"
    }
   ],
   "source": [
    "df[\"pitch_type\"]"
   ]
  },
  {
   "cell_type": "code",
   "execution_count": 9,
   "metadata": {
    "metadata": {}
   },
   "outputs": [],
   "source": [
    "def get_pitch_mix(pitcher_id):\n",
    "    df = pd.read_parquet(\"data/\" + str(pitcher_id) + \".parquet\")\n",
    "    mix = df[\"pitch_type\"].value_counts() / len(df)\n",
    "    return mix"
   ]
  },
  {
   "cell_type": "code",
   "execution_count": 10,
   "metadata": {
    "metadata": {}
   },
   "outputs": [
    {
     "data": {
      "text/plain": [
       "pitch_type\n",
       "CH    0.373043\n",
       "SI    0.336429\n",
       "FF    0.224197\n",
       "CU    0.066331\n",
       "Name: count, dtype: float64"
      ]
     },
     "execution_count": 10,
     "metadata": {},
     "output_type": "execute_result"
    }
   ],
   "source": [
    "get_pitch_mix(543294)"
   ]
  },
  {
   "cell_type": "code",
   "execution_count": 11,
   "metadata": {
    "metadata": {}
   },
   "outputs": [
    {
     "data": {
      "text/html": [
       "<div>\n",
       "<style scoped>\n",
       "    .dataframe tbody tr th:only-of-type {\n",
       "        vertical-align: middle;\n",
       "    }\n",
       "\n",
       "    .dataframe tbody tr th {\n",
       "        vertical-align: top;\n",
       "    }\n",
       "\n",
       "    .dataframe thead th {\n",
       "        text-align: right;\n",
       "    }\n",
       "</style>\n",
       "<table border=\"1\" class=\"dataframe\">\n",
       "  <thead>\n",
       "    <tr style=\"text-align: right;\">\n",
       "      <th></th>\n",
       "      <th>pitch_type</th>\n",
       "      <th>release_speed</th>\n",
       "      <th>release_spin_rate</th>\n",
       "      <th>pfx_x</th>\n",
       "      <th>pfx_z</th>\n",
       "      <th>stand</th>\n",
       "      <th>game_date</th>\n",
       "    </tr>\n",
       "  </thead>\n",
       "  <tbody>\n",
       "    <tr>\n",
       "      <th>0</th>\n",
       "      <td>CH</td>\n",
       "      <td>80.9</td>\n",
       "      <td>2216.0</td>\n",
       "      <td>-0.22</td>\n",
       "      <td>0.72</td>\n",
       "      <td>R</td>\n",
       "      <td>2024-04-16</td>\n",
       "    </tr>\n",
       "    <tr>\n",
       "      <th>1</th>\n",
       "      <td>CU</td>\n",
       "      <td>75.8</td>\n",
       "      <td>3046.0</td>\n",
       "      <td>1.30</td>\n",
       "      <td>-0.77</td>\n",
       "      <td>R</td>\n",
       "      <td>2024-04-16</td>\n",
       "    </tr>\n",
       "    <tr>\n",
       "      <th>2</th>\n",
       "      <td>FF</td>\n",
       "      <td>89.2</td>\n",
       "      <td>2194.0</td>\n",
       "      <td>-0.70</td>\n",
       "      <td>1.18</td>\n",
       "      <td>R</td>\n",
       "      <td>2024-04-16</td>\n",
       "    </tr>\n",
       "    <tr>\n",
       "      <th>3</th>\n",
       "      <td>CU</td>\n",
       "      <td>76.0</td>\n",
       "      <td>3078.0</td>\n",
       "      <td>1.35</td>\n",
       "      <td>-0.90</td>\n",
       "      <td>R</td>\n",
       "      <td>2024-04-16</td>\n",
       "    </tr>\n",
       "    <tr>\n",
       "      <th>4</th>\n",
       "      <td>SI</td>\n",
       "      <td>88.2</td>\n",
       "      <td>2076.0</td>\n",
       "      <td>-1.20</td>\n",
       "      <td>0.57</td>\n",
       "      <td>R</td>\n",
       "      <td>2024-04-16</td>\n",
       "    </tr>\n",
       "    <tr>\n",
       "      <th>...</th>\n",
       "      <td>...</td>\n",
       "      <td>...</td>\n",
       "      <td>...</td>\n",
       "      <td>...</td>\n",
       "      <td>...</td>\n",
       "      <td>...</td>\n",
       "      <td>...</td>\n",
       "    </tr>\n",
       "    <tr>\n",
       "      <th>73</th>\n",
       "      <td>SI</td>\n",
       "      <td>87.6</td>\n",
       "      <td>2000.0</td>\n",
       "      <td>-1.08</td>\n",
       "      <td>0.50</td>\n",
       "      <td>L</td>\n",
       "      <td>2024-04-16</td>\n",
       "    </tr>\n",
       "    <tr>\n",
       "      <th>74</th>\n",
       "      <td>FF</td>\n",
       "      <td>87.8</td>\n",
       "      <td>1994.0</td>\n",
       "      <td>-0.28</td>\n",
       "      <td>1.14</td>\n",
       "      <td>L</td>\n",
       "      <td>2024-04-16</td>\n",
       "    </tr>\n",
       "    <tr>\n",
       "      <th>75</th>\n",
       "      <td>CH</td>\n",
       "      <td>82.8</td>\n",
       "      <td>2170.0</td>\n",
       "      <td>-1.10</td>\n",
       "      <td>0.48</td>\n",
       "      <td>L</td>\n",
       "      <td>2024-04-16</td>\n",
       "    </tr>\n",
       "    <tr>\n",
       "      <th>76</th>\n",
       "      <td>CH</td>\n",
       "      <td>81.7</td>\n",
       "      <td>2175.0</td>\n",
       "      <td>-1.33</td>\n",
       "      <td>0.64</td>\n",
       "      <td>L</td>\n",
       "      <td>2024-04-16</td>\n",
       "    </tr>\n",
       "    <tr>\n",
       "      <th>77</th>\n",
       "      <td>FF</td>\n",
       "      <td>87.8</td>\n",
       "      <td>2005.0</td>\n",
       "      <td>-0.44</td>\n",
       "      <td>1.21</td>\n",
       "      <td>L</td>\n",
       "      <td>2024-04-16</td>\n",
       "    </tr>\n",
       "  </tbody>\n",
       "</table>\n",
       "<p>77 rows × 7 columns</p>\n",
       "</div>"
      ],
      "text/plain": [
       "   pitch_type  release_speed  release_spin_rate  pfx_x  pfx_z stand  \\\n",
       "0          CH           80.9             2216.0  -0.22   0.72     R   \n",
       "1          CU           75.8             3046.0   1.30  -0.77     R   \n",
       "2          FF           89.2             2194.0  -0.70   1.18     R   \n",
       "3          CU           76.0             3078.0   1.35  -0.90     R   \n",
       "4          SI           88.2             2076.0  -1.20   0.57     R   \n",
       "..        ...            ...                ...    ...    ...   ...   \n",
       "73         SI           87.6             2000.0  -1.08   0.50     L   \n",
       "74         FF           87.8             1994.0  -0.28   1.14     L   \n",
       "75         CH           82.8             2170.0  -1.10   0.48     L   \n",
       "76         CH           81.7             2175.0  -1.33   0.64     L   \n",
       "77         FF           87.8             2005.0  -0.44   1.21     L   \n",
       "\n",
       "     game_date  \n",
       "0   2024-04-16  \n",
       "1   2024-04-16  \n",
       "2   2024-04-16  \n",
       "3   2024-04-16  \n",
       "4   2024-04-16  \n",
       "..         ...  \n",
       "73  2024-04-16  \n",
       "74  2024-04-16  \n",
       "75  2024-04-16  \n",
       "76  2024-04-16  \n",
       "77  2024-04-16  \n",
       "\n",
       "[77 rows x 7 columns]"
      ]
     },
     "execution_count": 11,
     "metadata": {},
     "output_type": "execute_result"
    }
   ],
   "source": [
    "df"
   ]
  },
  {
   "cell_type": "code",
   "execution_count": null,
   "metadata": {
    "metadata": {}
   },
   "outputs": [],
   "source": []
  },
  {
   "cell_type": "code",
   "execution_count": null,
   "metadata": {
    "metadata": {}
   },
   "outputs": [],
   "source": []
  },
  {
   "cell_type": "code",
   "execution_count": null,
   "metadata": {
    "metadata": {}
   },
   "outputs": [],
   "source": []
  }
 ],
 "metadata": {
  "kernelspec": {
   "display_name": ".venv",
   "language": "python",
   "name": "python3"
  },
  "language_info": {
   "codemirror_mode": {
    "name": "ipython",
    "version": 3
   },
   "file_extension": ".py",
   "mimetype": "text/x-python",
   "name": "python",
   "nbconvert_exporter": "python",
   "pygments_lexer": "ipython3",
   "version": "3.11.7"
  }
 },
 "nbformat": 4,
 "nbformat_minor": 2
}
