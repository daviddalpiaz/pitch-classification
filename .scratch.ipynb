{
 "cells": [
  {
   "cell_type": "code",
   "execution_count": 1,
   "metadata": {
    "metadata": {}
   },
   "outputs": [],
   "source": [
    "import pandas as pd\n",
    "from pybaseball import playerid_lookup\n",
    "from pybaseball import statcast_pitcher, statcast\n",
    "import seaborn as sns\n",
    "import matplotlib.pyplot as plt\n",
    "import numpy as np"
   ]
  },
  {
   "cell_type": "code",
   "execution_count": 26,
   "metadata": {},
   "outputs": [
    {
     "name": "stdout",
     "output_type": "stream",
     "text": [
      "         pitch_name pitch_type  counts\n",
      "0   4-Seam Fastball         FF   23201\n",
      "1          Changeup         CH    7783\n",
      "2         Curveball         CU    4626\n",
      "3            Cutter         FC    6085\n",
      "4            Eephus         EP       3\n",
      "5          Forkball         FO      66\n",
      "6     Knuckle Curve         KC    1037\n",
      "7       Knuckleball         KN      67\n",
      "8             Other         FA      34\n",
      "9         Pitch Out         PO       5\n",
      "10        Screwball         SC       5\n",
      "11           Sinker         SI   12239\n",
      "12           Slider         SL   12968\n",
      "13       Slow Curve         CS       2\n",
      "14           Slurve         SV     202\n",
      "15     Split-Finger         FS    2059\n",
      "16          Sweeper         ST    3667\n"
     ]
    }
   ],
   "source": [
    "sc_2024 = statcast(\"2024-01-01\", \"2024-12-31\")\n",
    "combo_counts = sc_2024.groupby([\"pitch_name\", \"pitch_type\"]).size().reset_index(name=\"counts\")\n",
    "print(combo_counts)"
   ]
  },
  {
   "cell_type": "code",
   "execution_count": null,
   "metadata": {},
   "outputs": [],
   "source": []
  }
 ],
 "metadata": {
  "kernelspec": {
   "display_name": ".venv",
   "language": "python",
   "name": "python3"
  },
  "language_info": {
   "codemirror_mode": {
    "name": "ipython",
    "version": 3
   },
   "file_extension": ".py",
   "mimetype": "text/x-python",
   "name": "python",
   "nbconvert_exporter": "python",
   "pygments_lexer": "ipython3",
   "version": "3.11.7"
  }
 },
 "nbformat": 4,
 "nbformat_minor": 2
}
